{
  "nbformat": 4,
  "nbformat_minor": 0,
  "metadata": {
    "colab": {
      "provenance": []
    },
    "kernelspec": {
      "name": "python3",
      "display_name": "Python 3"
    },
    "language_info": {
      "name": "python"
    }
  },
  "cells": [
    {
      "cell_type": "code",
      "execution_count": null,
      "metadata": {
        "id": "WOigI_JRO0xP"
      },
      "outputs": [],
      "source": [
        "# Import libraries\n",
        "import pandas as pd\n",
        "import geopandas as gpd\n",
        "import geodatasets\n",
        "import plotnine as p9\n",
        "from plotnine import *\n",
        "from shapely.geometry import Polygon, MultiPolygon\n"
      ]
    },
    {
      "cell_type": "code",
      "source": [
        "# Load datasets\n",
        "indicator1 = pd.read_csv(\"unicef_indicator_1.csv\")\n",
        "indicator2 = pd.read_csv(\"unicef_indicator_2.csv\")\n",
        "metadata = pd.read_csv(\"unicef_metadata.csv\")\n"
      ],
      "metadata": {
        "id": "E291OK-QPBpZ"
      },
      "execution_count": null,
      "outputs": []
    },
    {
      "cell_type": "code",
      "source": [
        "# Convert 'obs_value' to numeric\n",
        "indicator1[\"obs_value\"] = pd.to_numeric(indicator1[\"obs_value\"], errors=\"coerce\")\n",
        "indicator2[\"obs_value\"] = pd.to_numeric(indicator2[\"obs_value\"], errors=\"coerce\")"
      ],
      "metadata": {
        "id": "Bw2rDBCqPCLb"
      },
      "execution_count": null,
      "outputs": []
    },
    {
      "cell_type": "code",
      "source": [
        "# Clean metadata\n",
        "metadata_clean = metadata.rename(columns={\n",
        "    'year': 'time_period',\n",
        "    'GDP per capita (constant 2015 US$)': 'GDP_per_capita',\n",
        "    'Life expectancy at birth, total (years)': 'Life_expectancy',\n",
        "    'Birth rate, crude (per 1,000 people)': 'Birth_rate'\n",
        "})"
      ],
      "metadata": {
        "id": "Bqz5sjrzPFik"
      },
      "execution_count": null,
      "outputs": []
    },
    {
      "cell_type": "code",
      "source": [
        "# Merge indicator1 with metadata\n",
        "merged = indicator1.merge(metadata_clean, on=['country', 'time_period'], how='left')\n",
        "merged = merged.dropna(subset=['GDP_per_capita', 'Life_expectancy'])\n"
      ],
      "metadata": {
        "id": "9E2m6LkOPIHb"
      },
      "execution_count": null,
      "outputs": []
    },
    {
      "cell_type": "code",
      "source": [
        "# 📈 Visualizations\n",
        "\n",
        "\n",
        "# 1. 📊 Top 10 Countries with the Highest Average Child Poverty Rates\n",
        "\n",
        "\n",
        "# Bar chart for Top 10 Countries by Child Poverty\n",
        "top10 = merged.groupby(\"country\")[\"obs_value\"].mean().sort_values(ascending=False).head(10).reset_index()\n",
        "\n",
        "(\n",
        "    p9.ggplot(top10, p9.aes(x=\"reorder(country, obs_value)\", y=\"obs_value\", label=\"round(obs_value, 1)\"))\n",
        "    + p9.geom_col(fill=\"#fb8500\")\n",
        "    + p9.geom_text(position=p9.position_stack(vjust=0.5), size=8, color=\"white\")\n",
        "    + p9.coord_flip()\n",
        "    + p9.theme_minimal()\n",
        "    + p9.labs(\n",
        "        title=\"Top 10 Countries with the Highest Average Child Poverty Rates\",\n",
        "        x=\"Country\",\n",
        "        y=\"Average Child Poverty (%)\"\n",
        "    )\n",
        ")\n"
      ],
      "metadata": {
        "id": "FFyy0q-GPOg3"
      },
      "execution_count": null,
      "outputs": []
    },
    {
      "cell_type": "markdown",
      "source": [
        "The bar chart highlights the top 10 countries with the highest average child poverty rates. These countries show significantly higher vulnerability levels compared to global averages.\n"
      ],
      "metadata": {
        "id": "kl1o3--SPoOr"
      }
    },
    {
      "cell_type": "code",
      "source": [
        "# 2. 🌍 World Map Visualization of GDP per Capita Distribution (2018)\n",
        "\n",
        "\n",
        "# Load world map\n",
        "# 🗺️ Load World Map (GeoJSON)\n",
        "world = gpd.read_file('https://raw.githubusercontent.com/nvkelso/natural-earth-vector/master/geojson/ne_110m_admin_0_countries.geojson')\n",
        "\n",
        "# 📂 Load UNICEF metadata\n",
        "metadata = pd.read_csv(\"unicef_metadata.csv\")\n",
        "\n",
        "# 🧹 Clean metadata\n",
        "metadata_clean = metadata.rename(columns={\n",
        "    'year': 'time_period',\n",
        "    'GDP per capita (constant 2015 US$)': 'GDP_per_capita',\n",
        "    'Life expectancy at birth, total (years)': 'Life_expectancy',\n",
        "    'Birth rate, crude (per 1,000 people)': 'Birth_rate'\n",
        "})\n",
        "\n",
        "# 🎯 Filter 2018\n",
        "metadata_2018 = metadata_clean[metadata_clean['time_period'] == 2018]\n",
        "\n",
        "# 🔗 Merge datasets\n",
        "world_merged = world.merge(metadata_2018, left_on='ISO_A3', right_on='alpha_3_code', how='left')\n",
        "\n",
        "# 🚿 Drop missing GDP\n",
        "world_merged = world_merged.dropna(subset=['GDP_per_capita'])\n",
        "\n",
        "# 💥 Explode multipolygons into polygons\n",
        "world_merged = world_merged.explode(index_parts=True)\n",
        "\n",
        "# 🧹 Build dataframe for plotting\n",
        "records = []\n",
        "for idx, row in world_merged.iterrows():\n",
        "    geom = row.geometry\n",
        "    if geom is None:\n",
        "        continue\n",
        "    if isinstance(geom, Polygon):\n",
        "        coords = list(geom.exterior.coords)\n",
        "    elif isinstance(geom, MultiPolygon):\n",
        "        coords = []\n",
        "        for poly in geom.geoms:\n",
        "            coords.extend(list(poly.exterior.coords))\n",
        "    for x, y in coords:\n",
        "        records.append({\n",
        "            'x': x,\n",
        "            'y': y,\n",
        "            'group': row['ISO_A3'],\n",
        "            'GDP_per_capita': row['GDP_per_capita']\n",
        "        })\n",
        "\n",
        "# Now make it a DataFrame\n",
        "world_points = pd.DataFrame(records)\n",
        "\n",
        "# 🌍 Plot World Map\n",
        "(\n",
        "    ggplot(world_points)\n",
        "    + geom_polygon(aes(x='x', y='y', group='group', fill='GDP_per_capita'), color='white')\n",
        "    + coord_equal()\n",
        "    + theme_void()\n",
        "    + scale_fill_continuous(name='GDP per Capita (log scale)', trans='log')\n",
        "    + labs(\n",
        "        title='World Map: GDP per Capita (2018)',\n",
        "        subtitle='Data source: UNICEF & World Bank',\n",
        "        caption='Natural Earth via GeoJSON'\n",
        "    )\n",
        ")\n"
      ],
      "metadata": {
        "id": "2vH5ZflqPq3V"
      },
      "execution_count": null,
      "outputs": []
    },
    {
      "cell_type": "markdown",
      "source": [
        "This world map shows the global distribution of GDP per capita in 2018. Wealthier regions are clustered in North America, Europe, and East Asia, while many African nations show lower GDP levels."
      ],
      "metadata": {
        "id": "GnGswbcZPt2u"
      }
    },
    {
      "cell_type": "code",
      "source": [
        "# 3. 🔵 Relationship Between GDP per Capita and Child ART Coverage\n",
        "\n",
        "\n",
        "# Scatter Plot: GDP vs ART Coverage\n",
        "indicator_2018 = indicator1[indicator1['time_period'] == 2018]\n",
        "merged_data = indicator_2018.merge(metadata_clean, on=['country', 'alpha_3_code', 'time_period'], how='left')\n",
        "\n",
        "(\n",
        "    ggplot(merged_data, aes(x='GDP_per_capita', y='obs_value'))\n",
        "    + geom_point()\n",
        "    + geom_smooth(method='lm', color='red')\n",
        "    + theme_minimal()\n",
        "    + labs(\n",
        "        title='Relationship Between GDP per Capita and Child ART Coverage',\n",
        "        x='GDP per Capita (USD)',\n",
        "        y='% of Children Receiving ART'\n",
        "    )\n",
        ")"
      ],
      "metadata": {
        "id": "F63uWDd3Pvhr"
      },
      "execution_count": null,
      "outputs": []
    },
    {
      "cell_type": "markdown",
      "source": [
        "The scatter plot with regression line shows that countries with higher GDP per capita tend to have higher child ART coverage, indicating better healthcare access in wealthier nations."
      ],
      "metadata": {
        "id": "J11Jby-2P6Dq"
      }
    },
    {
      "cell_type": "code",
      "source": [
        "# 4. 📈 Life Expectancy Trends in Selected Countries (2000–2020)\n",
        "\n",
        "\n",
        "\n",
        "# Step 8: Time Series Chart — Life Expectancy Trends (Selected Countries)\n",
        "\n",
        "# Select a few countries\n",
        "selected_countries = ['India', 'South Africa', 'United States', 'Nigeria', 'Brazil']\n",
        "timeseries_data = metadata_clean[metadata_clean['country'].isin(selected_countries)]\n",
        "\n",
        "# Drop missing Life Expectancy values\n",
        "timeseries_data = timeseries_data.dropna(subset=['Life_expectancy'])\n",
        "\n",
        "# Find first and last year for each country\n",
        "first_last_years = timeseries_data.groupby('country').agg(\n",
        "    first_year=('time_period', 'min'),\n",
        "    last_year=('time_period', 'max')\n",
        ").reset_index()\n",
        "\n",
        "# Select rows where year == first year OR last year\n",
        "highlight_points = timeseries_data[\n",
        "    (timeseries_data.set_index(['country', 'time_period']).index.isin(\n",
        "        list(zip(first_last_years['country'], first_last_years['first_year']))\n",
        "    )) |\n",
        "    (timeseries_data.set_index(['country', 'time_period']).index.isin(\n",
        "        list(zip(first_last_years['country'], first_last_years['last_year']))\n",
        "    ))\n",
        "]\n",
        "\n",
        "# Create a label column\n",
        "highlight_points = highlight_points.copy()\n",
        "highlight_points['Life_expectancy_label'] = highlight_points['Life_expectancy'].round(1)\n",
        "\n",
        "# Plot\n",
        "(\n",
        "    ggplot(timeseries_data, aes(x='time_period', y='Life_expectancy', color='country'))\n",
        "    + geom_line(size=1.2)   # ⬅ Slightly thicker, still neat\n",
        "    + geom_point(data=highlight_points, size=3)\n",
        "    + geom_text(\n",
        "        data=highlight_points,\n",
        "        mapping=aes(label='Life_expectancy_label'),\n",
        "        va='bottom',\n",
        "        ha='left',\n",
        "        size=6,\n",
        "        nudge_y=0.5\n",
        "    )\n",
        "    + theme_minimal()\n",
        "    + labs(\n",
        "        title='Life Expectancy Over Time',\n",
        "        x='Year',\n",
        "        y='Life Expectancy (Years)'\n",
        "    )\n",
        ")\n",
        "\n",
        "\n"
      ],
      "metadata": {
        "id": "yqIHjkUEP4Xw"
      },
      "execution_count": null,
      "outputs": []
    },
    {
      "cell_type": "markdown",
      "source": [
        "The time series plot shows consistent improvements in life expectancy across all selected countries, although the pace varies significantly among them.\n"
      ],
      "metadata": {
        "id": "awFq_0STQCMa"
      }
    },
    {
      "cell_type": "code",
      "source": [],
      "metadata": {
        "id": "s2YlLyojQCsy"
      },
      "execution_count": null,
      "outputs": []
    }
  ]
}